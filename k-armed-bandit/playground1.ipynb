{
 "cells": [
  {
   "cell_type": "code",
   "execution_count": 10,
   "metadata": {},
   "outputs": [
    {
     "name": "stdout",
     "output_type": "stream",
     "text": [
      "0.5\n"
     ]
    }
   ],
   "source": [
    "bandit_config = {\"bandit_actions\": 10, \"true_q_value_mean\": 0.5, \n",
    "                 \"true_q_value_std\": 0.1, \"q_value_std\": 0., \n",
    "                 \"q_drift_mean\": 0.0, \"q_drift_std\": 0.01, \"random_seed\": None}\n",
    "\n",
    "class BanditEnv:\n",
    "    def __init__(self, bandit_config: dict, render_mode=None):\n",
    "        for key, value in bandit_config.items(): self.__setattr__(key, value)\n",
    "\n",
    "env = BanditEnv(bandit_config=bandit_config, render_mode=None)\n",
    "print (env.true_q_value_mean)\n",
    "\n"
   ]
  },
  {
   "cell_type": "markdown",
   "metadata": {},
   "source": [
    "bandit_actions: int = 10,\n",
    "true_q_value_mean = 0., # for a specific initial q-value set this to the value of choice otherwise use mean = 0\n",
    "true_q_value_std = 0.1, # for a uniform initial q-value set this to zero otherwise use e.g., std = 1.\n",
    "q_value_std = 0., # for q_values drawn from a normal standard distribution set this to 1 else leave it to 0. The true_q_value_mean of each will be used as mean in any case which will be drifting if set so in the next two params.\n",
    "q_drift_mean: float = 0.0, # for a stationary problem set this to zero\n",
    "q_drift_std: float = 0.01, # for a stationary problem set this to zero else use e.g. std = 0.1 for a light drift\n",
    "random_seed: int = None,"
   ]
  },
  {
   "cell_type": "code",
   "execution_count": 24,
   "metadata": {},
   "outputs": [
    {
     "name": "stdout",
     "output_type": "stream",
     "text": [
      "-10\n"
     ]
    }
   ],
   "source": [
    "\n",
    "\n",
    "\n",
    "bandit_config = {\"bandit_actions\": 10, \"true_q_value_mean\": 0.5, \n",
    "                 \"true_q_value_std\": 0.1, \"q_value_std\": 0.0, \n",
    "                 \"q_drift_mean\": 0.0, \"q_drift_std\": 0.01, \"random_seed\": None}\n",
    "\n",
    "class BanditEnv:\n",
    "    def __init__(self, bandit_config: dict, render_mode=None):\n",
    "\n",
    "        try:\n",
    "            for key, value in bandit_config.items(): self.__setattr__(key, value)\n",
    "\n",
    "            # Type checks for the parameters\n",
    "            assert isinstance(self.bandit_actions, int) and self.bandit_actions > 0, f\"bandit_actions must be an integer greater than 0, got {type(self.bandit_actions)} with value {self.bandit_actions}\"\n",
    "            assert isinstance(self.true_q_value_mean, (int, float)), f\"true_q_value_mean must be a number, got {type(self.true_q_value_mean)}\"\n",
    "            assert isinstance(self.true_q_value_std, (int, float)), f\"true_q_value_std must be a number, got {type(self.true_q_value_std)}\"\n",
    "            assert isinstance(self.q_value_std, (int, float)), f\"q_value_std must be a number, got {type(self.q_value_std)}\"\n",
    "            assert isinstance(self.q_drift_mean, (int, float)), f\"q_drift_mean must be a number, got {type(self.q_drift_mean)}\"\n",
    "            assert isinstance(self.q_drift_std, (int, float)), f\"q_drift_std must be a number, got {type(self.q_drift_std)}\"\n",
    "            assert isinstance(self.random_seed, (int, type(None))), f\"random_seed must be an integer or None, got {type(self.random_seed)}\"\n",
    "        except (AttributeError, AssertionError) as e:\n",
    "            raise ValueError(f\"Invalid BanditEnv configuration: {e}\")\n",
    "\n",
    "        self.render_mode = render_mode\n",
    "\n",
    "\n",
    "env = BanditEnv(bandit_config=bandit_config, render_mode=None)\n",
    "print (env.bandit_actions)"
   ]
  },
  {
   "cell_type": "code",
   "execution_count": null,
   "metadata": {},
   "outputs": [],
   "source": [
    "class BanditEnv:\n",
    "    def __init__(self, *, render_mode=None, **kwargs):\n",
    "        self.render_mode = render_mode\n",
    "        self.__setattr_from_dict__(kwargs)\n",
    "\n",
    "        # Type checks for the parameters\n",
    "        assert isinstance(self.bandit_actions, int) and self.bandit_actions > 0, f\"bandit_actions must be an integer greater than 0, got {type(self.bandit_actions)}\"\n",
    "        assert isinstance(self.true_q_value_mean, (int, float)), f\"true_q_value_mean must be a number, got {type(self.true_q_value_mean)}\"\n",
    "        assert isinstance(self.true_q_value_std, (int, float)), f\"true_q_value_std must be a number, got {type(self.true_q_value_std)}\"\n",
    "        assert isinstance(self.q_value_std, (int, float)), f\"q_value_std must be a number, got {type(self.q_value_std)}\"\n",
    "        assert isinstance(self.q_drift_mean, (int, float)), f\"q_drift_mean must be a number, got {type(self.q_drift_mean)}\"\n",
    "        assert isinstance(self.q_drift_std, (int, float)), f\"q_drift_std must be a number, got {type(self.q_drift_std)}\"\n",
    "        assert isinstance(self.random_seed, (int, type(None))), f\"random_seed must be an integer or None, got {type(self.random_seed)}\"\n",
    "\n",
    "        # observation and action space of the BanditEnv\n",
    "        self.observation_space = spaces.Box(low=-np.inf, high=np.inf, shape=(self.bandit_actions,), dtype=np.float64)\n",
    "        self.action_space = spaces.Discrete(self.bandit_actions)\n",
    "\n",
    "        # The arrays that holds the true and actual q-values of each bandit arm\n",
    "        self.arms_true_q_values = np.zeros(self.bandit_actions)\n",
    "        self.arms_q_values = np.zeros(self.bandit_actions)\n",
    "\n",
    "        # Variables to store and communicate the agents efficiency\n",
    "        self.step_error = 0.\n",
    "        self.optimal_action = False\n",
    "\n",
    "        # ... rest of the code remains the same ...\n",
    "\n",
    "    def __setattr_from_dict__(self, d):\n",
    "        for key, value in d.items():\n",
    "            self.__setattr__(key, value)"
   ]
  },
  {
   "cell_type": "code",
   "execution_count": null,
   "metadata": {},
   "outputs": [],
   "source": []
  },
  {
   "cell_type": "code",
   "execution_count": 9,
   "metadata": {},
   "outputs": [
    {
     "name": "stdout",
     "output_type": "stream",
     "text": [
      "274674114334540486603088602300644985544\n",
      "True\n",
      "True\n",
      "180456145198944327624639367796045148994\n"
     ]
    }
   ],
   "source": [
    "import numpy as np\n",
    "random_seed = 42\n",
    "rng = np.random.default_rng(seed=random_seed)\n",
    "rng1 = np.random.default_rng(seed=random_seed)\n",
    "# rng1 = np.random.default_rng(seed=rng.bit_generator.state['state']['state'])\n",
    "\n",
    "print (rng.bit_generator.state['state']['state'])\n",
    "\n",
    "print(rng.normal(loc=0, scale=1) == rng1.normal(loc=0, scale=1))\n",
    "print (rng.random() == rng1.random())\n",
    "\n",
    "print (rng.bit_generator.state['state']['state'])"
   ]
  }
 ],
 "metadata": {
  "kernelspec": {
   "display_name": ".venv",
   "language": "python",
   "name": "python3"
  },
  "language_info": {
   "codemirror_mode": {
    "name": "ipython",
    "version": 3
   },
   "file_extension": ".py",
   "mimetype": "text/x-python",
   "name": "python",
   "nbconvert_exporter": "python",
   "pygments_lexer": "ipython3",
   "version": "3.12.2"
  }
 },
 "nbformat": 4,
 "nbformat_minor": 2
}
