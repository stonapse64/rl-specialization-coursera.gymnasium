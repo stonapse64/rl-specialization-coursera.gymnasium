{
 "cells": [
  {
   "cell_type": "code",
   "execution_count": 23,
   "metadata": {},
   "outputs": [
    {
     "name": "stdout",
     "output_type": "stream",
     "text": [
      "Bandit configuration\n",
      "--------------------\n",
      "arms: 6\n",
      "qdrift_mean: 0.0\n",
      "qdrift_std: 0.0\n",
      "stationary: True\n",
      "render_mode: None\n"
     ]
    }
   ],
   "source": [
    "import gymnasium as gym\n",
    "\n",
    "class BanditParams:\n",
    "    \"\"\"Parameters for the k-armed BanditEnv environment.\"\"\"\n",
    "    # TODO add missing params for initial q-values (uniform, randint from range)\n",
    "    # and draw logic (constant or from a probability distribution with\n",
    "    #  mean = initial q-values and std)\n",
    "    def __init__(\n",
    "        self,\n",
    "        arms: int = 10,\n",
    "        qdrift_mean: float = 0.0,\n",
    "        qdrift_std: float = 0.0,\n",
    "        stationary: bool = True,\n",
    "    ):\n",
    "        self.arms = arms\n",
    "        self.qdrift_mean = qdrift_mean\n",
    "        self.qdrift_std = qdrift_std\n",
    "        self.stationary = stationary\n",
    "    \n",
    "    def print_bandit_params(self):\n",
    "        print(\"Bandit configuration\\n--------------------\")\n",
    "        print(*[f\"{key}: {value}\" for key, value in self.__dict__.items()], sep=\"\\n\")\n",
    "\n",
    "class BanditEnv(gym.Env, BanditParams):\n",
    "\n",
    "    metadata = {\"render_modes\": [\"human\"], \"render_fps\": 4}\n",
    "    \n",
    "    def __init__(self, render_mode=None):\n",
    "        super().__init__()\n",
    "\n",
    "        assert render_mode is None or render_mode in self.metadata[\"render_modes\"]\n",
    "        self.render_mode = render_mode\n",
    "\n",
    "env = BanditEnv()\n",
    "env.arms = 6\n",
    "env.print_bandit_params()"
   ]
  },
  {
   "cell_type": "code",
   "execution_count": 9,
   "metadata": {},
   "outputs": [
    {
     "name": "stdout",
     "output_type": "stream",
     "text": [
      "\n"
     ]
    }
   ],
   "source": [
    "import inspect\n",
    "\n",
    "import gymnasium as gym\n",
    "\n",
    "class BanditParams:\n",
    "    arms: int = 10\n",
    "    qdrift_mean: float = 0.0\n",
    "    qdrift_std: float = 0.0\n",
    "    stationary: bool = True\n",
    "\n",
    "class BanditEnv(gym.Env, BanditParams):\n",
    "\n",
    "    metadata = {\"render_modes\": [\"human\"], \"render_fps\": 4}\n",
    "    \n",
    "    def __init__(self):\n",
    "        super().__init__()\n",
    "        pass\n",
    "\n",
    "env = BanditEnv()\n",
    "# print(env.arms)\n",
    "# env.arms = 6\n",
    "# print(env.arms)\n",
    "\n",
    "print(*[f\"{key}: {value}\" for key, value in env.__dict__.items()], sep=\"\\n\")"
   ]
  },
  {
   "cell_type": "code",
   "execution_count": null,
   "metadata": {},
   "outputs": [],
   "source": [
    "'''Figure 2.1: An example bandit problem from the 10-armed testbed. The true value q⇤(a) of\n",
    "each of the ten actions was selected according to a normal distribution with mean zero and unit\n",
    "variance, and then the actual rewards were selected according to a mean q⇤(a), unit-variance\n",
    "normal distribution, as suggested by these gray distributions.'''\n",
    "\n",
    "import matplotlib.pyplot as plt\n",
    "import numpy as np\n",
    "\n",
    "# Generate the data\n",
    "arms = 10\n",
    "arms_q_values = np.random.normal(0, 1, arms)\n",
    "timesteps = 10000\n",
    "arms_values_over_time = np.zeros(timesteps)\n",
    "\n",
    "arm = np.min(arms_q_values)\n",
    "for i in range(timesteps):\n",
    "    arms_values_over_time[i] = np.random.normal(arm, 1)\n",
    "\n",
    "# Create a violin plot based on the data in arms_values_over_time\n",
    "plt.violinplot(arms_values_over_time)\n",
    "plt.title('Violin Plot of Arms Values Over Time')\n",
    "plt.xlabel('Arms')\n",
    "plt.ylabel('Values')\n",
    "\n",
    "# Calculate the mean of the distribution\n",
    "mean_value = np.mean(arms_values_over_time)\n",
    "\n",
    "# Add a shorter marker/error line for the mean of the distribution\n",
    "plt.axhline(mean_value, color='r', linestyle='--', linewidth=1, xmin=0.45, xmax=0.55)\n",
    "\n",
    "# Get the current axis\n",
    "ax = plt.gca()\n",
    "\n",
    "# Get the right end of the error line\n",
    "xmax = ax.get_xlim()[1] * 0.55\n",
    "print (xmax, ax.get_xlim()[1])\n",
    "\n",
    "# Add text relative to the right end of the error line\n",
    "plt.text(1.45 * xmax + 0.02 * ax.get_xlim()[1], mean_value, f'q({np.argmin(arms_q_values)})', color='r', verticalalignment='center')\n",
    "\n",
    "# Show the plot\n",
    "plt.show()"
   ]
  },
  {
   "cell_type": "code",
   "execution_count": null,
   "metadata": {},
   "outputs": [],
   "source": []
  }
 ],
 "metadata": {
  "kernelspec": {
   "display_name": ".venv",
   "language": "python",
   "name": "python3"
  },
  "language_info": {
   "codemirror_mode": {
    "name": "ipython",
    "version": 3
   },
   "file_extension": ".py",
   "mimetype": "text/x-python",
   "name": "python",
   "nbconvert_exporter": "python",
   "pygments_lexer": "ipython3",
   "version": "3.12.2"
  }
 },
 "nbformat": 4,
 "nbformat_minor": 2
}
